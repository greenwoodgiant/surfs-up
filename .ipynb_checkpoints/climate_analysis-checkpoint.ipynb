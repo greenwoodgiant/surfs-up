{
 "cells": [
  {
   "cell_type": "markdown",
   "metadata": {},
   "source": [
    "# Dependencies"
   ]
  },
  {
   "cell_type": "code",
   "execution_count": 33,
   "metadata": {
    "collapsed": true
   },
   "outputs": [],
   "source": [
    "import pandas as pd\n",
    "import sqlalchemy\n",
    "from sqlalchemy import create_engine, MetaData\n",
    "from sqlalchemy.ext.declarative import declarative_base\n",
    "from sqlalchemy import Column, Integer, String, Numeric, Text, Float\n",
    "from sqlalchemy.ext.automap import automap_base\n",
    "from sqlalchemy.orm import Session\n",
    "import matplotlib.pyplot as plt\n",
    "import numpy as np\n",
    "import seaborn as sns"
   ]
  },
  {
   "cell_type": "markdown",
   "metadata": {},
   "source": [
    "# Connect to SQLite engine"
   ]
  },
  {
   "cell_type": "code",
   "execution_count": 34,
   "metadata": {
    "collapsed": true
   },
   "outputs": [],
   "source": [
    "engine = create_engine(\"sqlite:///hawaii.sqlite\")\n",
    "conn = engine.connect()"
   ]
  },
  {
   "cell_type": "markdown",
   "metadata": {},
   "source": [
    "# Use Automap to reflect tables into classes"
   ]
  },
  {
   "cell_type": "code",
   "execution_count": 35,
   "metadata": {
    "collapsed": true
   },
   "outputs": [],
   "source": [
    "Base = automap_base()"
   ]
  },
  {
   "cell_type": "code",
   "execution_count": 36,
   "metadata": {
    "collapsed": true
   },
   "outputs": [],
   "source": [
    "Base.prepare(engine,reflect=True)"
   ]
  },
  {
   "cell_type": "code",
   "execution_count": 37,
   "metadata": {},
   "outputs": [
    {
     "data": {
      "text/plain": [
       "['measurements', 'stations']"
      ]
     },
     "execution_count": 37,
     "metadata": {},
     "output_type": "execute_result"
    }
   ],
   "source": [
    "Base.classes.keys()"
   ]
  },
  {
   "cell_type": "code",
   "execution_count": 38,
   "metadata": {
    "collapsed": true
   },
   "outputs": [],
   "source": [
    "Measurements = Base.classes.measurements\n",
    "Stations = Base.classes.stations"
   ]
  },
  {
   "cell_type": "markdown",
   "metadata": {},
   "source": [
    "# Track Precipitation over past year"
   ]
  },
  {
   "cell_type": "code",
   "execution_count": 39,
   "metadata": {
    "collapsed": true
   },
   "outputs": [],
   "source": [
    "# Create session and precipitation query\n",
    "session = Session(engine)\n",
    "precipitation = session.query(Measurements.date,Measurements.prcp)\n",
    "\n",
    "# Create Dataframe and group by Date\n",
    "precip_df = pd.read_sql(precipitation.statement, precipitation.session.bind)\n",
    "by_date = precip_df.groupby([\"date\"]).sum()"
   ]
  },
  {
   "cell_type": "code",
   "execution_count": 41,
   "metadata": {},
   "outputs": [
    {
     "data": {
      "text/html": [
       "<div>\n",
       "<style scoped>\n",
       "    .dataframe tbody tr th:only-of-type {\n",
       "        vertical-align: middle;\n",
       "    }\n",
       "\n",
       "    .dataframe tbody tr th {\n",
       "        vertical-align: top;\n",
       "    }\n",
       "\n",
       "    .dataframe thead th {\n",
       "        text-align: right;\n",
       "    }\n",
       "</style>\n",
       "<table border=\"1\" class=\"dataframe\">\n",
       "  <thead>\n",
       "    <tr style=\"text-align: right;\">\n",
       "      <th></th>\n",
       "      <th>date</th>\n",
       "      <th>prcp</th>\n",
       "    </tr>\n",
       "  </thead>\n",
       "  <tbody>\n",
       "    <tr>\n",
       "      <th>0</th>\n",
       "      <td>2016-08-24</td>\n",
       "      <td>18.66</td>\n",
       "    </tr>\n",
       "    <tr>\n",
       "      <th>1</th>\n",
       "      <td>2016-08-25</td>\n",
       "      <td>1.08</td>\n",
       "    </tr>\n",
       "    <tr>\n",
       "      <th>2</th>\n",
       "      <td>2016-08-26</td>\n",
       "      <td>0.20</td>\n",
       "    </tr>\n",
       "    <tr>\n",
       "      <th>3</th>\n",
       "      <td>2016-08-27</td>\n",
       "      <td>0.64</td>\n",
       "    </tr>\n",
       "    <tr>\n",
       "      <th>4</th>\n",
       "      <td>2016-08-28</td>\n",
       "      <td>6.20</td>\n",
       "    </tr>\n",
       "  </tbody>\n",
       "</table>\n",
       "</div>"
      ],
      "text/plain": [
       "         date   prcp\n",
       "0  2016-08-24  18.66\n",
       "1  2016-08-25   1.08\n",
       "2  2016-08-26   0.20\n",
       "3  2016-08-27   0.64\n",
       "4  2016-08-28   6.20"
      ]
     },
     "execution_count": 41,
     "metadata": {},
     "output_type": "execute_result"
    }
   ],
   "source": [
    "# Grab tail 365 entries for look at most recent year\n",
    "last_year = by_date.tail(365)\n",
    "last_year.reset_index(inplace=True,drop=False)\n",
    "last_year.head()"
   ]
  },
  {
   "cell_type": "code",
   "execution_count": 42,
   "metadata": {},
   "outputs": [
    {
     "data": {
      "image/png": "[encoded data removed]",
      "text/plain": [
       "<matplotlib.figure.Figure at 0x1df62d83cc0>"
      ]
     },
     "metadata": {},
     "output_type": "display_data"
    }
   ],
   "source": [
    "# Plot graph\n",
    "sns.set()\n",
    "plt.plot(last_year[\"prcp\"],label=\"Precipitation\")\n",
    "\n",
    "plt.title(\"Recorded Precipitation in Hawaii\")\n",
    "plt.xlabel(\"Date\")\n",
    "plt.ylabel(\"Precipitation\")\n",
    "\n",
    "# Set 10 x-ticks and pull date for label\n",
    "total = len(last_year[\"prcp\"])\n",
    "x_ticks = np.arange(1,total,(total/10),dtype=Integer)\n",
    "x_ticks = [round(x) for x in x_ticks]\n",
    "labels = [last_year[\"date\"][x] for x in x_ticks]\n",
    "plt.xticks(x_ticks, labels, rotation=60)\n",
    "\n",
    "plt.tight_layout()\n",
    "plt.savefig(\"lastyear_prcp.pdf\")\n",
    "plt.show()"
   ]
  },
  {
   "cell_type": "markdown",
   "metadata": {},
   "source": [
    "# Find Temperature Frequencies for past year"
   ]
  },
  {
   "cell_type": "code",
   "execution_count": 43,
   "metadata": {},
   "outputs": [
    {
     "data": {
      "text/html": [
       "<div>\n",
       "<style scoped>\n",
       "    .dataframe tbody tr th:only-of-type {\n",
       "        vertical-align: middle;\n",
       "    }\n",
       "\n",
       "    .dataframe tbody tr th {\n",
       "        vertical-align: top;\n",
       "    }\n",
       "\n",
       "    .dataframe thead th {\n",
       "        text-align: right;\n",
       "    }\n",
       "</style>\n",
       "<table border=\"1\" class=\"dataframe\">\n",
       "  <thead>\n",
       "    <tr style=\"text-align: right;\">\n",
       "      <th></th>\n",
       "      <th>station</th>\n",
       "    </tr>\n",
       "  </thead>\n",
       "  <tbody>\n",
       "    <tr>\n",
       "      <th>USC00519281</th>\n",
       "      <td>5544</td>\n",
       "    </tr>\n",
       "    <tr>\n",
       "      <th>USC00513117</th>\n",
       "      <td>5392</td>\n",
       "    </tr>\n",
       "    <tr>\n",
       "      <th>USC00519397</th>\n",
       "      <td>5370</td>\n",
       "    </tr>\n",
       "    <tr>\n",
       "      <th>USC00519523</th>\n",
       "      <td>5144</td>\n",
       "    </tr>\n",
       "    <tr>\n",
       "      <th>USC00516128</th>\n",
       "      <td>4968</td>\n",
       "    </tr>\n",
       "    <tr>\n",
       "      <th>USC00514830</th>\n",
       "      <td>3874</td>\n",
       "    </tr>\n",
       "    <tr>\n",
       "      <th>USC00511918</th>\n",
       "      <td>3864</td>\n",
       "    </tr>\n",
       "    <tr>\n",
       "      <th>USC00517948</th>\n",
       "      <td>1366</td>\n",
       "    </tr>\n",
       "    <tr>\n",
       "      <th>USC00518838</th>\n",
       "      <td>684</td>\n",
       "    </tr>\n",
       "  </tbody>\n",
       "</table>\n",
       "</div>"
      ],
      "text/plain": [
       "             station\n",
       "USC00519281     5544\n",
       "USC00513117     5392\n",
       "USC00519397     5370\n",
       "USC00519523     5144\n",
       "USC00516128     4968\n",
       "USC00514830     3874\n",
       "USC00511918     3864\n",
       "USC00517948     1366\n",
       "USC00518838      684"
      ]
     },
     "execution_count": 43,
     "metadata": {},
     "output_type": "execute_result"
    }
   ],
   "source": [
    "# List stations by amount of readings\n",
    "station_activity = session.query(Measurements.station)\n",
    "activity_df = pd.read_sql(station_activity.statement, station_activity.session.bind)\n",
    "activity_df = pd.DataFrame(activity_df[\"station\"].value_counts())\n",
    "activity_df"
   ]
  },
  {
   "cell_type": "code",
   "execution_count": 44,
   "metadata": {},
   "outputs": [
    {
     "data": {
      "text/html": [
       "<div>\n",
       "<style scoped>\n",
       "    .dataframe tbody tr th:only-of-type {\n",
       "        vertical-align: middle;\n",
       "    }\n",
       "\n",
       "    .dataframe tbody tr th {\n",
       "        vertical-align: top;\n",
       "    }\n",
       "\n",
       "    .dataframe thead th {\n",
       "        text-align: right;\n",
       "    }\n",
       "</style>\n",
       "<table border=\"1\" class=\"dataframe\">\n",
       "  <thead>\n",
       "    <tr style=\"text-align: right;\">\n",
       "      <th></th>\n",
       "      <th>station</th>\n",
       "      <th>date</th>\n",
       "      <th>tobs</th>\n",
       "    </tr>\n",
       "  </thead>\n",
       "  <tbody>\n",
       "    <tr>\n",
       "      <th>31425</th>\n",
       "      <td>USC00519281</td>\n",
       "      <td>2016-08-10</td>\n",
       "      <td>82</td>\n",
       "    </tr>\n",
       "    <tr>\n",
       "      <th>31426</th>\n",
       "      <td>USC00519281</td>\n",
       "      <td>2016-08-11</td>\n",
       "      <td>80</td>\n",
       "    </tr>\n",
       "    <tr>\n",
       "      <th>31427</th>\n",
       "      <td>USC00519281</td>\n",
       "      <td>2016-08-12</td>\n",
       "      <td>76</td>\n",
       "    </tr>\n",
       "    <tr>\n",
       "      <th>31428</th>\n",
       "      <td>USC00519281</td>\n",
       "      <td>2016-08-13</td>\n",
       "      <td>80</td>\n",
       "    </tr>\n",
       "    <tr>\n",
       "      <th>31429</th>\n",
       "      <td>USC00519281</td>\n",
       "      <td>2016-08-14</td>\n",
       "      <td>76</td>\n",
       "    </tr>\n",
       "  </tbody>\n",
       "</table>\n",
       "</div>"
      ],
      "text/plain": [
       "           station        date  tobs\n",
       "31425  USC00519281  2016-08-10    82\n",
       "31426  USC00519281  2016-08-11    80\n",
       "31427  USC00519281  2016-08-12    76\n",
       "31428  USC00519281  2016-08-13    80\n",
       "31429  USC00519281  2016-08-14    76"
      ]
     },
     "execution_count": 44,
     "metadata": {},
     "output_type": "execute_result"
    }
   ],
   "source": [
    "# Find the frequency of TOBS readings in the past year\n",
    "# At the station with the most readings (USC00519281)\n",
    "tobs = session.query(Measurements.station,Measurements.date,Measurements.tobs)\n",
    "tobs_df = pd.read_sql(tobs.statement, tobs.session.bind)\n",
    "\n",
    "waihee = tobs_df.loc[tobs_df[\"station\"]==\"USC00519281\"]\n",
    "waihee_lastyr = waihee.tail(365)\n",
    "waihee_lastyr.head()"
   ]
  },
  {
   "cell_type": "code",
   "execution_count": 45,
   "metadata": {},
   "outputs": [
    {
     "data": {
      "text/html": [
       "<div>\n",
       "<style scoped>\n",
       "    .dataframe tbody tr th:only-of-type {\n",
       "        vertical-align: middle;\n",
       "    }\n",
       "\n",
       "    .dataframe tbody tr th {\n",
       "        vertical-align: top;\n",
       "    }\n",
       "\n",
       "    .dataframe thead th {\n",
       "        text-align: right;\n",
       "    }\n",
       "</style>\n",
       "<table border=\"1\" class=\"dataframe\">\n",
       "  <thead>\n",
       "    <tr style=\"text-align: right;\">\n",
       "      <th></th>\n",
       "      <th>count</th>\n",
       "    </tr>\n",
       "    <tr>\n",
       "      <th>tobs</th>\n",
       "      <th></th>\n",
       "    </tr>\n",
       "  </thead>\n",
       "  <tbody>\n",
       "    <tr>\n",
       "      <th>59</th>\n",
       "      <td>3</td>\n",
       "    </tr>\n",
       "    <tr>\n",
       "      <th>60</th>\n",
       "      <td>2</td>\n",
       "    </tr>\n",
       "    <tr>\n",
       "      <th>61</th>\n",
       "      <td>1</td>\n",
       "    </tr>\n",
       "    <tr>\n",
       "      <th>62</th>\n",
       "      <td>6</td>\n",
       "    </tr>\n",
       "    <tr>\n",
       "      <th>63</th>\n",
       "      <td>4</td>\n",
       "    </tr>\n",
       "  </tbody>\n",
       "</table>\n",
       "</div>"
      ],
      "text/plain": [
       "      count\n",
       "tobs       \n",
       "59        3\n",
       "60        2\n",
       "61        1\n",
       "62        6\n",
       "63        4"
      ]
     },
     "execution_count": 45,
     "metadata": {},
     "output_type": "execute_result"
    }
   ],
   "source": [
    "# Sort value counts of TOBS readings by the temperature read\n",
    "tobs_counts = pd.DataFrame(waihee_lastyr[\"tobs\"].value_counts())\n",
    "tobs_counts.sort_index(inplace=True)\n",
    "tobs_counts.reset_index(inplace=True,drop=False)\n",
    "tobs_counts.columns = ['tobs', 'count']\n",
    "tobs_counts.set_index(\"tobs\",inplace=True)\n",
    "tobs_counts.head()"
   ]
  },
  {
   "cell_type": "code",
   "execution_count": 46,
   "metadata": {},
   "outputs": [
    {
     "data": {
      "image/png": "[encoded data removed]",
      "text/plain": [
       "<matplotlib.figure.Figure at 0x1df62e0fef0>"
      ]
     },
     "metadata": {},
     "output_type": "display_data"
    }
   ],
   "source": [
    "# I was unable to get an accurate plot with '.hist' but this bar chart\n",
    "# appears to be the same information requested from the histogram\n",
    "tobs_counts.plot.bar(width=1)\n",
    "\n",
    "plt.ylabel(\"Frequency\")\n",
    "\n",
    "plt.tight_layout()\n",
    "plt.savefig(\"tobs_frequency.pdf\")\n",
    "plt.show()"
   ]
  },
  {
   "cell_type": "markdown",
   "metadata": {},
   "source": [
    "# Create function to Calculate Temperature"
   ]
  },
  {
   "cell_type": "code",
   "execution_count": 47,
   "metadata": {
    "collapsed": true
   },
   "outputs": [],
   "source": [
    "def calc_temps():\n",
    "    # Start the query and create a dataframe\n",
    "    query = session.query(Measurements.date, Measurements.tobs)\n",
    "    dataframe = pd.read_sql(query.statement, query.session.bind)\n",
    "    \n",
    "    # Collect dates from user\n",
    "    year = input(\"Enter the 4-digit year of your trip: \")\n",
    "    start_date = input(\"Enter the date of your departure (MM-DD): \")\n",
    "    end_date = input(\"Enter the date of your return (MM-DD): \")\n",
    "    \n",
    "    # Set start_date and end_date variables\n",
    "    start_year = str(int(year) - 1)\n",
    "    start_date = start_year + \"-\" + start_date\n",
    "    end_date = start_year + \"-\" + end_date\n",
    "    \n",
    "    # Trim dataframe to selected dates\n",
    "    trimmed = dataframe.loc[dataframe[\"date\"] >= start_date]\n",
    "    trimmed = dataframe.loc[dataframe[\"date\"] <= end_date]\n",
    "    \n",
    "    # Group by Date\n",
    "    avg_temp = trimmed.groupby(\"date\").mean()\n",
    "    \n",
    "    # Set Min and Max temp variables / Calculate Y-Error\n",
    "    min_temp = avg_temp[\"tobs\"].min()\n",
    "    max_temp = avg_temp[\"tobs\"].max()\n",
    "    error = max_temp - min_temp\n",
    "    \n",
    "    # Calculate Average Temp and create single Dataframe\n",
    "    avg_temp = avg_temp[\"tobs\"].mean()\n",
    "    avg_temp = pd.DataFrame([{\"Temperature\":avg_temp}])\n",
    "    \n",
    "    # Plot the Bar Graph\n",
    "    avg_temp.plot.bar(yerr=error,color='orange',alpha=0.5,width=.25)\n",
    "    plt.title(\"Average Temp during Time of Trip (Previous Year)\")\n",
    "    plt.ylabel(\"Temperature (F)\")\n",
    "    plt.tight_layout()\n",
    "    plt.savefig(\"avg_trip_temp.pdf\")\n",
    "    plt.show()"
   ]
  },
  {
   "cell_type": "code",
   "execution_count": 147,
   "metadata": {},
   "outputs": [
    {
     "name": "stdout",
     "output_type": "stream",
     "text": [
      "Enter the 4-digit year of your trip: 2017\n",
      "Enter the date of your departure (MM-DD): 08-03\n",
      "Enter the date of your return (MM-DD): 08-21\n"
     ]
    },
    {
     "data": {
      "image/png": "[encoded data removed]",
      "text/plain": [
       "<matplotlib.figure.Figure at 0x15671447518>"
      ]
     },
     "metadata": {},
     "output_type": "display_data"
    }
   ],
   "source": [
    "calc_temps()"
   ]
  }
 ],
 "metadata": {
  "kernelspec": {
   "display_name": "Python 3",
   "language": "python",
   "name": "python3"
  },
  "language_info": {
   "codemirror_mode": {
    "name": "ipython",
    "version": 3
   },
   "file_extension": ".py",
   "mimetype": "text/x-python",
   "name": "python",
   "nbconvert_exporter": "python",
   "pygments_lexer": "ipython3",
   "version": "3.6.3"
  }
 },
 "nbformat": 4,
 "nbformat_minor": 2
}
